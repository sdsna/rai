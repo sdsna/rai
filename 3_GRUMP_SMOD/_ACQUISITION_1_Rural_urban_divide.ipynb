{
 "cells": [
  {
   "cell_type": "code",
   "execution_count": 17,
   "id": "2652fcba",
   "metadata": {},
   "outputs": [],
   "source": [
    "#Start by downloading GRUMP dataset and current SMOD dataset"
   ]
  },
  {
   "cell_type": "code",
   "execution_count": 1,
   "id": "8dea5c76",
   "metadata": {},
   "outputs": [],
   "source": [
    "import rasterio\n",
    "from rasterio import features\n",
    "from rasterio.features import shapes\n",
    "from shapely.geometry import shape\n",
    "import geopandas as gpd\n",
    "from pandas import DataFrame"
   ]
  },
  {
   "cell_type": "markdown",
   "id": "d21948d9",
   "metadata": {},
   "source": [
    "SMOD CLASSES\n",
    "— Class 30: “Urban Centre grid cell”, if the cell belongs to an Urban Centre spatial entity;\n",
    "— Class 23: “Dense Urban Cluster grid cell”, if the cell belongs to a Dense Urban Cluster spatial entity;\n",
    "— Class 22: “Semi-dense Urban Cluster grid cell”, if the cell belongs to a Semi-dense Urban Cluster spatial entity;\n",
    "— Class 21: “Suburban or per-urban grid cell”, if the cell belongs to an Urban Cluster cells at first hierarchical level but is not part of a Dense or Semi-dense Urban Cluster;\n",
    "— Class 13: “Rural cluster grid cell”, if the cell belongs to a Rural Cluster spatial entity;\n",
    "— Class 12: “Low Density Rural grid cell”, if the cell is classified as Rural grid cells at first hierarchical\n",
    "level, has more than 50 inhabitant and is not part of a Rural Cluster;\n",
    "— Class 11: “Very low density rural grid cell”, if the cell is classified as Rural grid cells at first hierarchical level, has less than 50 inhabitant and is not part of a Rural Cluster;\n",
    "— Class 10: “Water grid cell”, if the cell has 0.5 share covered by permanent surface water and is not populated nor built."
   ]
  },
  {
   "cell_type": "code",
   "execution_count": 4,
   "id": "13a072e1",
   "metadata": {},
   "outputs": [],
   "source": [
    "\n",
    "#Open the SMOD raster\n",
    "with rasterio.open(r'/Users/guilhermeiablonovski/Dropbox (SDSN)/SDG Geospatial Indicators Project/sdg-roadinfrastructure/_raw_data/GHS_SMOD_E2020_GLOBE_R2022A_54009_1000_V1_0/GHS_SMOD_E2020_GLOBE_R2022A_54009_1000_V1_0.tif') as src:\n",
    "    smod_raw = src.read(1)\n",
    "\n",
    "#Create a rasterio feature object by ingesting the land-cover raster\n",
    "shapes = features.shapes(smod_raw,transform=src.transform)\n",
    "\n",
    "#Create empty lists to store the values\n",
    "urban = []\n",
    "geometry = []\n",
    "\n",
    "#Populate the lists with the geometries and values from the feature object\n",
    "for shapedict, value in shapes:\n",
    "    urban.append(value)\n",
    "    geometry.append(shape(shapedict))\n",
    "    \n",
    "#Create a geodataframe with the values from the lists\n",
    "gdf = gpd.GeoDataFrame(\n",
    "    {'smod': urban, 'geometry': geometry },\n",
    "    crs=\"ESRI:54009\")\n",
    "\n",
    "#Filter the features that correspond to the urban category\n",
    "classes = [30,23,22,21]\n",
    "urban = gdf[gdf[\"smod\"].isin(classes)]\n",
    "#urban = urban.to_crs(\"EPSG:4326\")\n",
    "\n",
    "\n",
    "#Plot the results\n",
    "output_folder = '/Users/guilhermeiablonovski/Dropbox (SDSN)/SDG Geospatial Indicators Project/sdg-roadinfrastructure/_raw_data/GHS_SMOD_E2020_GLOBE_R2022A_54009_1000_V1_0/'\n",
    "urban.to_file(output_folder+'SMOD_urban.gpkg')"
   ]
  },
  {
   "cell_type": "code",
   "execution_count": 6,
   "id": "1dac53e6",
   "metadata": {},
   "outputs": [],
   "source": [
    "#Open the GRUMP data\n",
    "grump = gpd.read_file('/Users/guilhermeiablonovski/Dropbox (SDSN)/SDG Geospatial Indicators Project/sdg-roadinfrastructure/_raw_data/grump-v1-urban-ext-polygons-rev02-shp/grump-v1-urban-ext-polygons-rev02-shp/global_urban_extent_polygons_v1.01.shp')\n",
    "smod = gpd.read_file('/Users/guilhermeiablonovski/Dropbox (SDSN)/SDG Geospatial Indicators Project/sdg-roadinfrastructure/_raw_data/GHS_SMOD_E2020_GLOBE_R2022A_54009_1000_V1_0/SMOD_urban.gpkg')"
   ]
  },
  {
   "cell_type": "code",
   "execution_count": 13,
   "id": "e4058c3c",
   "metadata": {},
   "outputs": [
    {
     "name": "stderr",
     "output_type": "stream",
     "text": [
      "/Users/guilhermeiablonovski/opt/anaconda3/envs/geopandasenv/lib/python3.7/site-packages/geopandas/base.py:31: UserWarning: The indices of the two GeoSeries are different.\n",
      "  warn(\"The indices of the two GeoSeries are different.\")\n"
     ]
    }
   ],
   "source": [
    "#Union datasets #Also can be done with QGIS to avoid projection mishandling\n",
    "urban = grump.to_crs('ESRI:54009').overlay(smod, how='union')\n",
    "urban.to_file('/Users/guilhermeiablonovski/Dropbox (SDSN)/SDG Geospatial Indicators Project/sdg-roadinfrastructure/_raw_data/SMOD_GRUMP_Urban.gpkg')"
   ]
  },
  {
   "cell_type": "code",
   "execution_count": 14,
   "id": "a403e958",
   "metadata": {},
   "outputs": [],
   "source": [
    "#JOIN FEATURES (Currently done with QGIS)\n",
    "#Get the countries shape\n",
    "world_countries = gpd.read_file('/Users/guilhermeiablonovski/Dropbox (SDSN)/world-administrative-boundaries-sdsn/world-administrative-boundaries-sdsn.shp')\n",
    "urban = gpd.read_file('/Users/guilhermeiablonovski/Dropbox (SDSN)/SDG Geospatial Indicators Project/sdg-roadinfrastructure/_raw_data/SMOD_GRUMP_Urban_QGIS.gpkg')\n",
    "rural = world_countries.overlay(urban, how='difference')"
   ]
  },
  {
   "cell_type": "code",
   "execution_count": null,
   "id": "b51a4a70",
   "metadata": {},
   "outputs": [],
   "source": []
  }
 ],
 "metadata": {
  "kernelspec": {
   "display_name": "geopandasenv",
   "language": "python",
   "name": "geopandasenv"
  },
  "language_info": {
   "codemirror_mode": {
    "name": "ipython",
    "version": 3
   },
   "file_extension": ".py",
   "mimetype": "text/x-python",
   "name": "python",
   "nbconvert_exporter": "python",
   "pygments_lexer": "ipython3",
   "version": "3.7.12"
  }
 },
 "nbformat": 4,
 "nbformat_minor": 5
}
