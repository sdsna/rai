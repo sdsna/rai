{
 "cells": [
  {
   "cell_type": "code",
   "execution_count": 1,
   "id": "a75145ac",
   "metadata": {},
   "outputs": [],
   "source": [
    "#Import numpy so we can manipulate our rasters as multidimensional arrays\n",
    "import numpy as np\n",
    "import rasterio\n",
    "import glob\n",
    "import os"
   ]
  },
  {
   "cell_type": "code",
   "execution_count": 3,
   "id": "584a950b",
   "metadata": {},
   "outputs": [
    {
     "data": {
      "text/plain": [
       "['/Volumes/GUILHERME/_osm_exports/_euclidean/_buffers/OSM_World_Paved_RasterizedBi_EuclideanDistances.tif',\n",
       " '/Volumes/GUILHERME/_osm_exports/_euclidean/_buffers/OSM_World_Unpaved_RasterizedBi_EuclideanDistances.tif']"
      ]
     },
     "execution_count": 3,
     "metadata": {},
     "output_type": "execute_result"
    }
   ],
   "source": [
    "# File and folder paths\n",
    "dirpath = r'/Volumes/GUILHERME/_osm_exports/_euclidean/_buffers/'\n",
    "\n",
    "\n",
    "# Make a search criteria to select the DEM files\n",
    "search_criteria = \"*.tif\"\n",
    "q = os.path.join(dirpath, search_criteria)\n",
    "\n",
    "files = glob.glob(q)\n",
    "files"
   ]
  },
  {
   "cell_type": "code",
   "execution_count": 4,
   "id": "b9f3c39f",
   "metadata": {},
   "outputs": [],
   "source": [
    "for file in files:\n",
    "    with rasterio.open(file) as src:    \n",
    "    # Read as numpy array\n",
    "        array = src.read()\n",
    "        profile = src.profile\n",
    "\n",
    "        # Reclassify\n",
    "        array[np.where(array <= 2000)] = 1\n",
    "        array[np.where(array > 2000)] = -999999999\n",
    "\n",
    "    with rasterio.open(file[:-4]+'_2kmBuffer.tif', 'w', **profile) as dst:\n",
    "    # Write to disk\n",
    "        dst.write(array)\n"
   ]
  },
  {
   "cell_type": "markdown",
   "id": "39bcbbd0",
   "metadata": {},
   "source": [
    "#Now for merging everything together by taking the max pixel"
   ]
  },
  {
   "cell_type": "code",
   "execution_count": 7,
   "id": "9e7cedcb",
   "metadata": {},
   "outputs": [
    {
     "data": {
      "text/plain": [
       "['/Volumes/GUILHERME/_osm_exports/_euclidean/_buffers/BING_World_Unpaved_2kmBuffer.tif',\n",
       " '/Volumes/GUILHERME/_osm_exports/_euclidean/_buffers/OSM_World_Unpaved_RasterizedBi_EuclideanDistances_2kmBuffer.tif']"
      ]
     },
     "execution_count": 7,
     "metadata": {},
     "output_type": "execute_result"
    }
   ],
   "source": [
    "# File and folder paths\n",
    "dirpath = r'/Volumes/GUILHERME/_osm_exports/_euclidean/_buffers/'\n",
    "\n",
    "\n",
    "# Make a search criteria to select the DEM files\n",
    "search_criteria = \"*Unpaved*2kmBuffer.tif\"\n",
    "q = os.path.join(dirpath, search_criteria)\n",
    "\n",
    "files = glob.glob(q)\n",
    "files"
   ]
  },
  {
   "cell_type": "code",
   "execution_count": 8,
   "id": "2b145e82",
   "metadata": {},
   "outputs": [
    {
     "data": {
      "text/plain": [
       "[<open DatasetReader name='/Volumes/GUILHERME/_osm_exports/_euclidean/_buffers/BING_World_Unpaved_2kmBuffer.tif' mode='r'>,\n",
       " <open DatasetReader name='/Volumes/GUILHERME/_osm_exports/_euclidean/_buffers/OSM_World_Unpaved_RasterizedBi_EuclideanDistances_2kmBuffer.tif' mode='r'>]"
      ]
     },
     "execution_count": 8,
     "metadata": {},
     "output_type": "execute_result"
    }
   ],
   "source": [
    "src_files_to_mosaic = []\n",
    "for file in files:\n",
    "    src = rasterio.open(file)\n",
    "    src_files_to_mosaic.append(src)\n",
    "src_files_to_mosaic"
   ]
  },
  {
   "cell_type": "code",
   "execution_count": 9,
   "id": "085f5d3d",
   "metadata": {},
   "outputs": [],
   "source": [
    "from rasterio.merge import merge\n",
    "mosaic, out_trans = merge(src_files_to_mosaic, method='max')"
   ]
  },
  {
   "cell_type": "code",
   "execution_count": 10,
   "id": "ada033cf",
   "metadata": {},
   "outputs": [
    {
     "data": {
      "text/plain": [
       "CRS.from_epsg(4326)"
      ]
     },
     "execution_count": 10,
     "metadata": {},
     "output_type": "execute_result"
    }
   ],
   "source": [
    "src.crs"
   ]
  },
  {
   "cell_type": "code",
   "execution_count": 11,
   "id": "a5ad2d50",
   "metadata": {},
   "outputs": [],
   "source": [
    "out_meta = src.meta.copy()\n",
    "out_meta.update({\"driver\": \"GTiff\",\n",
    "                 \"height\": mosaic.shape[1],\n",
    "                 \"width\": mosaic.shape[2],\n",
    "                 \"transform\": out_trans,\n",
    "                }\n",
    "               )"
   ]
  },
  {
   "cell_type": "code",
   "execution_count": 12,
   "id": "9097b4aa",
   "metadata": {},
   "outputs": [],
   "source": [
    "out_fp = r'/Volumes/GUILHERME/_osm_exports/_euclidean/_buffers/BING_OSM_World_Unpaved_2kmBuffer.tif'\n",
    "\n",
    "with rasterio.open(out_fp, \"w\", **out_meta) as dest:\n",
    "    dest.write(mosaic)"
   ]
  },
  {
   "cell_type": "code",
   "execution_count": null,
   "id": "23a812ab",
   "metadata": {},
   "outputs": [],
   "source": []
  }
 ],
 "metadata": {
  "kernelspec": {
   "display_name": "geopandasenv",
   "language": "python",
   "name": "geopandasenv"
  },
  "language_info": {
   "codemirror_mode": {
    "name": "ipython",
    "version": 3
   },
   "file_extension": ".py",
   "mimetype": "text/x-python",
   "name": "python",
   "nbconvert_exporter": "python",
   "pygments_lexer": "ipython3",
   "version": "3.7.12"
  }
 },
 "nbformat": 4,
 "nbformat_minor": 5
}
