{
 "cells": [
  {
   "cell_type": "code",
   "execution_count": 20,
   "id": "a75145ac",
   "metadata": {},
   "outputs": [],
   "source": [
    "#Import numpy so we can manipulate our rasters as multidimensional arrays\n",
    "import numpy as np\n",
    "import rasterio\n",
    "import glob\n",
    "import os"
   ]
  },
  {
   "cell_type": "code",
   "execution_count": 21,
   "id": "584a950b",
   "metadata": {},
   "outputs": [],
   "source": [
    "# File and folder paths\n",
    "dirpath = r'/Volumes/GUILHERME/_microsoft_missing_from_OSM_roads/_euclidean/'\n",
    "\n",
    "\n",
    "# Make a search criteria to select the DEM files\n",
    "search_criteria = \"*.tif\"\n",
    "q = os.path.join(dirpath, search_criteria)\n",
    "\n",
    "files = glob.glob(q)"
   ]
  },
  {
   "cell_type": "code",
   "execution_count": 22,
   "id": "b9f3c39f",
   "metadata": {},
   "outputs": [],
   "source": [
    "for file in files:\n",
    "    with rasterio.open(file) as src:    \n",
    "    # Read as numpy array\n",
    "        array = src.read()\n",
    "        profile = src.profile\n",
    "\n",
    "        # Reclassify\n",
    "        array[np.where(array <= 2000)] = 1\n",
    "        array[np.where(array > 2000)] = -999999999\n",
    "\n",
    "    with rasterio.open(file[:-4]+'_2kmBuffer.tif', 'w', **profile) as dst:\n",
    "    # Write to disk\n",
    "        dst.write(array)\n"
   ]
  },
  {
   "cell_type": "markdown",
   "id": "39bcbbd0",
   "metadata": {},
   "source": [
    "#Now for merging everything together by taking the max pixel"
   ]
  },
  {
   "cell_type": "code",
   "execution_count": 26,
   "id": "9e7cedcb",
   "metadata": {},
   "outputs": [
    {
     "data": {
      "text/plain": [
       "['/Volumes/GUILHERME/_microsoft_missing_from_OSM_roads/_euclidean/AfricaCenter_2kmBuffer.tif',\n",
       " '/Volumes/GUILHERME/_microsoft_missing_from_OSM_roads/_euclidean/AfricaEast_2kmBuffer.tif',\n",
       " '/Volumes/GUILHERME/_microsoft_missing_from_OSM_roads/_euclidean/AfricaNorth_2kmBuffer.tif',\n",
       " '/Volumes/GUILHERME/_microsoft_missing_from_OSM_roads/_euclidean/AfricaSouth_2kmBuffer.tif',\n",
       " '/Volumes/GUILHERME/_microsoft_missing_from_OSM_roads/_euclidean/AfricaWest_2kmBuffer.tif',\n",
       " '/Volumes/GUILHERME/_microsoft_missing_from_OSM_roads/_euclidean/AmericaCenter_2kmBuffer.tif',\n",
       " '/Volumes/GUILHERME/_microsoft_missing_from_OSM_roads/_euclidean/AsiaCenter_2kmBuffer.tif',\n",
       " '/Volumes/GUILHERME/_microsoft_missing_from_OSM_roads/_euclidean/AsiaNorth_2kmBuffer.tif',\n",
       " '/Volumes/GUILHERME/_microsoft_missing_from_OSM_roads/_euclidean/AsiaSouthEast_2kmBuffer.tif',\n",
       " '/Volumes/GUILHERME/_microsoft_missing_from_OSM_roads/_euclidean/AsiaSouth_2kmBuffer.tif',\n",
       " '/Volumes/GUILHERME/_microsoft_missing_from_OSM_roads/_euclidean/Canada_2kmBuffer.tif',\n",
       " '/Volumes/GUILHERME/_microsoft_missing_from_OSM_roads/_euclidean/CaribbeanIslands_2kmBuffer.tif',\n",
       " '/Volumes/GUILHERME/_microsoft_missing_from_OSM_roads/_euclidean/Europe_Central_2kmBuffer.tif',\n",
       " '/Volumes/GUILHERME/_microsoft_missing_from_OSM_roads/_euclidean/Europe_Eastern_2kmBuffer.tif',\n",
       " '/Volumes/GUILHERME/_microsoft_missing_from_OSM_roads/_euclidean/Europe_Northern_2kmBuffer.tif',\n",
       " '/Volumes/GUILHERME/_microsoft_missing_from_OSM_roads/_euclidean/Europe_UK_2kmBuffer.tif',\n",
       " '/Volumes/GUILHERME/_microsoft_missing_from_OSM_roads/_euclidean/Europe_Western_2kmBuffer.tif',\n",
       " '/Volumes/GUILHERME/_microsoft_missing_from_OSM_roads/_euclidean/MiddleEast_2kmBuffer.tif',\n",
       " '/Volumes/GUILHERME/_microsoft_missing_from_OSM_roads/_euclidean/Oceania_2kmBuffer.tif',\n",
       " '/Volumes/GUILHERME/_microsoft_missing_from_OSM_roads/_euclidean/SouthAmerica_2kmBuffer.tif',\n",
       " '/Volumes/GUILHERME/_microsoft_missing_from_OSM_roads/_euclidean/USA_2kmBuffer.tif']"
      ]
     },
     "execution_count": 26,
     "metadata": {},
     "output_type": "execute_result"
    }
   ],
   "source": [
    "# File and folder paths\n",
    "dirpath = r'/Volumes/GUILHERME/_microsoft_missing_from_OSM_roads/_euclidean/'\n",
    "\n",
    "\n",
    "# Make a search criteria to select the DEM files\n",
    "search_criteria = \"*2kmBuffer.tif\"\n",
    "q = os.path.join(dirpath, search_criteria)\n",
    "\n",
    "files = glob.glob(q)\n",
    "files"
   ]
  },
  {
   "cell_type": "code",
   "execution_count": 27,
   "id": "2b145e82",
   "metadata": {},
   "outputs": [
    {
     "data": {
      "text/plain": [
       "[<open DatasetReader name='/Volumes/GUILHERME/_microsoft_missing_from_OSM_roads/_euclidean/AfricaCenter_2kmBuffer.tif' mode='r'>,\n",
       " <open DatasetReader name='/Volumes/GUILHERME/_microsoft_missing_from_OSM_roads/_euclidean/AfricaEast_2kmBuffer.tif' mode='r'>,\n",
       " <open DatasetReader name='/Volumes/GUILHERME/_microsoft_missing_from_OSM_roads/_euclidean/AfricaNorth_2kmBuffer.tif' mode='r'>,\n",
       " <open DatasetReader name='/Volumes/GUILHERME/_microsoft_missing_from_OSM_roads/_euclidean/AfricaSouth_2kmBuffer.tif' mode='r'>,\n",
       " <open DatasetReader name='/Volumes/GUILHERME/_microsoft_missing_from_OSM_roads/_euclidean/AfricaWest_2kmBuffer.tif' mode='r'>,\n",
       " <open DatasetReader name='/Volumes/GUILHERME/_microsoft_missing_from_OSM_roads/_euclidean/AmericaCenter_2kmBuffer.tif' mode='r'>,\n",
       " <open DatasetReader name='/Volumes/GUILHERME/_microsoft_missing_from_OSM_roads/_euclidean/AsiaCenter_2kmBuffer.tif' mode='r'>,\n",
       " <open DatasetReader name='/Volumes/GUILHERME/_microsoft_missing_from_OSM_roads/_euclidean/AsiaNorth_2kmBuffer.tif' mode='r'>,\n",
       " <open DatasetReader name='/Volumes/GUILHERME/_microsoft_missing_from_OSM_roads/_euclidean/AsiaSouthEast_2kmBuffer.tif' mode='r'>,\n",
       " <open DatasetReader name='/Volumes/GUILHERME/_microsoft_missing_from_OSM_roads/_euclidean/AsiaSouth_2kmBuffer.tif' mode='r'>,\n",
       " <open DatasetReader name='/Volumes/GUILHERME/_microsoft_missing_from_OSM_roads/_euclidean/Canada_2kmBuffer.tif' mode='r'>,\n",
       " <open DatasetReader name='/Volumes/GUILHERME/_microsoft_missing_from_OSM_roads/_euclidean/CaribbeanIslands_2kmBuffer.tif' mode='r'>,\n",
       " <open DatasetReader name='/Volumes/GUILHERME/_microsoft_missing_from_OSM_roads/_euclidean/Europe_Central_2kmBuffer.tif' mode='r'>,\n",
       " <open DatasetReader name='/Volumes/GUILHERME/_microsoft_missing_from_OSM_roads/_euclidean/Europe_Eastern_2kmBuffer.tif' mode='r'>,\n",
       " <open DatasetReader name='/Volumes/GUILHERME/_microsoft_missing_from_OSM_roads/_euclidean/Europe_Northern_2kmBuffer.tif' mode='r'>,\n",
       " <open DatasetReader name='/Volumes/GUILHERME/_microsoft_missing_from_OSM_roads/_euclidean/Europe_UK_2kmBuffer.tif' mode='r'>,\n",
       " <open DatasetReader name='/Volumes/GUILHERME/_microsoft_missing_from_OSM_roads/_euclidean/Europe_Western_2kmBuffer.tif' mode='r'>,\n",
       " <open DatasetReader name='/Volumes/GUILHERME/_microsoft_missing_from_OSM_roads/_euclidean/MiddleEast_2kmBuffer.tif' mode='r'>,\n",
       " <open DatasetReader name='/Volumes/GUILHERME/_microsoft_missing_from_OSM_roads/_euclidean/Oceania_2kmBuffer.tif' mode='r'>,\n",
       " <open DatasetReader name='/Volumes/GUILHERME/_microsoft_missing_from_OSM_roads/_euclidean/SouthAmerica_2kmBuffer.tif' mode='r'>,\n",
       " <open DatasetReader name='/Volumes/GUILHERME/_microsoft_missing_from_OSM_roads/_euclidean/USA_2kmBuffer.tif' mode='r'>]"
      ]
     },
     "execution_count": 27,
     "metadata": {},
     "output_type": "execute_result"
    }
   ],
   "source": [
    "src_files_to_mosaic = []\n",
    "for file in files:\n",
    "    src = rasterio.open(file)\n",
    "    src_files_to_mosaic.append(src)\n",
    "src_files_to_mosaic"
   ]
  },
  {
   "cell_type": "code",
   "execution_count": 33,
   "id": "085f5d3d",
   "metadata": {},
   "outputs": [],
   "source": [
    "from rasterio.merge import merge\n",
    "mosaic, out_trans = merge(src_files_to_mosaic, method='max')"
   ]
  },
  {
   "cell_type": "code",
   "execution_count": null,
   "id": "33cfda00",
   "metadata": {},
   "outputs": [],
   "source": [
    "from rasterio.plot import show\n",
    "show(mosaic, cmap='terrain')"
   ]
  },
  {
   "cell_type": "code",
   "execution_count": 34,
   "id": "ada033cf",
   "metadata": {},
   "outputs": [
    {
     "data": {
      "text/plain": [
       "CRS.from_epsg(4326)"
      ]
     },
     "execution_count": 34,
     "metadata": {},
     "output_type": "execute_result"
    }
   ],
   "source": [
    "src.crs"
   ]
  },
  {
   "cell_type": "code",
   "execution_count": 35,
   "id": "a5ad2d50",
   "metadata": {},
   "outputs": [],
   "source": [
    "out_meta = src.meta.copy()\n",
    "out_meta.update({\"driver\": \"GTiff\",\n",
    "                 \"height\": mosaic.shape[1],\n",
    "                 \"width\": mosaic.shape[2],\n",
    "                 \"transform\": out_trans,\n",
    "                }\n",
    "               )"
   ]
  },
  {
   "cell_type": "code",
   "execution_count": 36,
   "id": "9097b4aa",
   "metadata": {},
   "outputs": [],
   "source": [
    "out_fp = r'/Volumes/GUILHERME/_microsoft_missing_from_OSM_roads/_euclidean/World_2kmBuffer.tif'\n",
    "\n",
    "with rasterio.open(out_fp, \"w\", **out_meta) as dest:\n",
    "    dest.write(mosaic)"
   ]
  }
 ],
 "metadata": {
  "kernelspec": {
   "display_name": "geopandasenv",
   "language": "python",
   "name": "geopandasenv"
  },
  "language_info": {
   "codemirror_mode": {
    "name": "ipython",
    "version": 3
   },
   "file_extension": ".py",
   "mimetype": "text/x-python",
   "name": "python",
   "nbconvert_exporter": "python",
   "pygments_lexer": "ipython3",
   "version": "3.7.12"
  }
 },
 "nbformat": 4,
 "nbformat_minor": 5
}
